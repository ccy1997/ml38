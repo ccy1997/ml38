{
 "cells": [
  {
   "cell_type": "markdown",
   "metadata": {},
   "source": [
    "# Evaluating linear and polynomial regression with elastic net regularization"
   ]
  },
  {
   "cell_type": "code",
   "execution_count": 1,
   "metadata": {},
   "outputs": [],
   "source": [
    "import pandas\n",
    "import numpy as np\n",
    "from sklearn import preprocessing\n",
    "from scipy import stats\n",
    "from sklearn.preprocessing import PolynomialFeatures\n",
    "from sklearn.model_selection import KFold\n",
    "import sklearn.linear_model as lm\n",
    "import random\n",
    "import DataPrepUtil\n",
    "import Impute"
   ]
  },
  {
   "cell_type": "markdown",
   "metadata": {},
   "source": [
    "## Reading data"
   ]
  },
  {
   "cell_type": "code",
   "execution_count": 2,
   "metadata": {},
   "outputs": [],
   "source": [
    "housing = pandas.read_csv('./housing.csv')"
   ]
  },
  {
   "cell_type": "markdown",
   "metadata": {},
   "source": [
    "## Preprocessing data"
   ]
  },
  {
   "cell_type": "code",
   "execution_count": 3,
   "metadata": {},
   "outputs": [
    {
     "name": "stderr",
     "output_type": "stream",
     "text": [
      "c:\\python37\\lib\\site-packages\\pandas\\core\\indexing.py:189: SettingWithCopyWarning: \n",
      "A value is trying to be set on a copy of a slice from a DataFrame\n",
      "\n",
      "See the caveats in the documentation: http://pandas.pydata.org/pandas-docs/stable/indexing.html#indexing-view-versus-copy\n",
      "  self._setitem_with_indexer(indexer, value)\n",
      "c:\\python37\\lib\\site-packages\\sklearn\\preprocessing\\data.py:625: DataConversionWarning: Data with input dtype int64, float64 were all converted to float64 by StandardScaler.\n",
      "  return self.partial_fit(X, y)\n",
      "c:\\python37\\lib\\site-packages\\ipykernel_launcher.py:5: DataConversionWarning: Data with input dtype int64, float64 were all converted to float64 by StandardScaler.\n",
      "  \"\"\"\n"
     ]
    }
   ],
   "source": [
    "DataPrepUtil.transform_ocean_proximity(housing)\n",
    "Impute.fill_lr_prediction_from_other_column(housing, 'total_rooms')\n",
    "\n",
    "standard = preprocessing.StandardScaler().fit(housing)\n",
    "df = standard.transform(housing)\n",
    "\n",
    "median_house_value_bc, maxlog, interval = stats.boxcox(housing.median_house_value, alpha=0.05)\n",
    "population_bc, maxlog, interval = stats.boxcox(housing.population, alpha=0.05)\n",
    "housing_median_age_bc, maxlog, interval = stats.boxcox(housing.housing_median_age, alpha=0.05)\n",
    "total_rooms_bc, maxlog, interval = stats.boxcox(housing.total_rooms, alpha=0.05)\n",
    "total_bedrooms_bc, maxlog, interval = stats.boxcox(housing.total_bedrooms, alpha=0.05)\n",
    "households_bc, maxlog, interval = stats.boxcox(housing.households, alpha=0.05)\n",
    "median_income_bc, maxlog, interval = stats.boxcox(housing.median_income, alpha=0.05)\n",
    "\n",
    "housing_boxcox = housing.copy()\n",
    "\n",
    "housing_boxcox.drop(columns=['housing_median_age'], inplace=True)\n",
    "housing_boxcox.drop(columns=['total_rooms'], inplace=True)\n",
    "housing_boxcox.drop(columns=['total_bedrooms'], inplace=True)\n",
    "housing_boxcox.drop(columns=['population'], inplace=True)\n",
    "housing_boxcox.drop(columns=['households'], inplace=True)\n",
    "housing_boxcox.drop(columns=['median_income'], inplace=True)\n",
    "housing_boxcox.drop(columns=['median_house_value'], inplace=True)\n",
    "\n",
    "housing_boxcox['housing_median_age'] = housing_median_age_bc\n",
    "housing_boxcox['total_rooms'] = total_rooms_bc\n",
    "housing_boxcox['total_bedrooms'] = total_bedrooms_bc\n",
    "housing_boxcox['population'] = population_bc\n",
    "housing_boxcox['households'] = households_bc\n",
    "housing_boxcox['median_income'] = median_income_bc\n",
    "housing_boxcox['median_house_value'] = median_house_value_bc"
   ]
  },
  {
   "cell_type": "markdown",
   "metadata": {},
   "source": [
    "## Splitting input and output"
   ]
  },
  {
   "cell_type": "code",
   "execution_count": 4,
   "metadata": {},
   "outputs": [],
   "source": [
    "y = housing_boxcox.median_house_value.values.reshape(-1,1)\n",
    "X = housing_boxcox.drop(columns=['median_house_value'], inplace=False).values"
   ]
  },
  {
   "cell_type": "markdown",
   "metadata": {},
   "source": [
    "## Create polynomial features from the original input features (for polynomial regression)"
   ]
  },
  {
   "cell_type": "code",
   "execution_count": 5,
   "metadata": {},
   "outputs": [
    {
     "name": "stdout",
     "output_type": "stream",
     "text": [
      "[[ 1.00000000e+00 -1.22230000e+02  3.78800000e+01 ...  2.00602423e+02\n",
      "   5.06028832e+01  1.27648098e+01]\n",
      " [ 1.00000000e+00 -1.22220000e+02  3.78600000e+01 ...  8.24729756e+02\n",
      "   1.02375247e+02  1.27080308e+01]\n",
      " [ 1.00000000e+00 -1.22240000e+02  3.78500000e+01 ...  2.35946960e+02\n",
      "   4.91591188e+01  1.02422127e+01]\n",
      " ...\n",
      " [ 1.00000000e+00 -1.21220000e+02  3.94300000e+01 ...  1.06200069e+02\n",
      "   4.13060842e+00  1.60658331e-01]\n",
      " [ 1.00000000e+00 -1.21320000e+02  3.94300000e+01 ...  1.09380005e+02\n",
      "   5.38606468e+00  2.65219339e-01]\n",
      " [ 1.00000000e+00 -1.21240000e+02  3.93700000e+01 ...  2.00983807e+02\n",
      "   1.22271651e+01  7.43858764e-01]]\n",
      "(20640, 560)\n"
     ]
    }
   ],
   "source": [
    "poly = PolynomialFeatures(degree=3)\n",
    "X_poly = poly.fit_transform(housing_boxcox.drop(columns=['median_house_value'], inplace=False).values)\n",
    "print(X_poly)\n",
    "print(X_poly.shape)"
   ]
  },
  {
   "cell_type": "markdown",
   "metadata": {},
   "source": [
    "## Training and test set split"
   ]
  },
  {
   "cell_type": "code",
   "execution_count": 6,
   "metadata": {},
   "outputs": [],
   "source": [
    "test = random.sample(range(0,20640),5000)\n",
    "X_test = X[test]\n",
    "X_poly_test = X_poly[test]\n",
    "y_test = y[test]\n",
    "X_train_valid = np.delete(X, test, 0)\n",
    "X_poly_train_valid = np.delete(X_poly, test, 0)\n",
    "y_train_valid = np.delete(y, test, 0)"
   ]
  },
  {
   "cell_type": "markdown",
   "metadata": {},
   "source": [
    "## Variables for holding the optimal models and the corresponding validation score"
   ]
  },
  {
   "cell_type": "code",
   "execution_count": 7,
   "metadata": {},
   "outputs": [],
   "source": [
    "ChosenLinearModel = None\n",
    "current_score_linear = -1\n",
    "current_paramater_linear = -1\n",
    "\n",
    "ChosenPolyModel = None\n",
    "current_score_poly = -1\n",
    "current_paramater_poly = -1"
   ]
  },
  {
   "cell_type": "markdown",
   "metadata": {},
   "source": [
    "## Performance of linear regression on different value of regularization parameter"
   ]
  },
  {
   "cell_type": "code",
   "execution_count": 8,
   "metadata": {},
   "outputs": [
    {
     "name": "stdout",
     "output_type": "stream",
     "text": [
      "a = 0.01\n",
      "Average training r2 score: 0.6885423215396218\n",
      "Average validation r2 score: 0.687406395661195\n",
      "a = 0.03\n",
      "Average training r2 score: 0.6801704017046205\n",
      "Average validation r2 score: 0.6791626860594038\n",
      "a = 0.049999999999999996\n",
      "Average training r2 score: 0.6739895040423836\n",
      "Average validation r2 score: 0.6733343051136194\n",
      "a = 0.06999999999999999\n",
      "Average training r2 score: 0.6673287783136242\n",
      "Average validation r2 score: 0.6665812867824135\n",
      "a = 0.08999999999999998\n",
      "Average training r2 score: 0.6601728825412453\n",
      "Average validation r2 score: 0.6593942788187006\n",
      "a = 0.10999999999999997\n",
      "Average training r2 score: 0.6509657531391504\n",
      "Average validation r2 score: 0.6502667037412708\n",
      "a = 0.12999999999999998\n",
      "Average training r2 score: 0.6434000010589956\n",
      "Average validation r2 score: 0.6430455729684368\n",
      "a = 0.15\n",
      "Average training r2 score: 0.6321182408748957\n",
      "Average validation r2 score: 0.6317212969155326\n",
      "a = 0.16999999999999998\n",
      "Average training r2 score: 0.6234861136019806\n",
      "Average validation r2 score: 0.6228818435573148\n",
      "a = 0.18999999999999997\n",
      "Average training r2 score: 0.6112311198495186\n",
      "Average validation r2 score: 0.6106535655576656\n",
      "Optimal model (linear): a = 0.01\n"
     ]
    }
   ],
   "source": [
    "for a in np.arange(0.01, 0.2, 0.02):\n",
    "    print(\"a = \" + str(a))\n",
    "    \n",
    "    Model = lm.ElasticNet(alpha=a, max_iter=3000, tol=0.13)\n",
    "    \n",
    "    # Have to shuffle the data because it is grouped.\n",
    "    kf = KFold(n_splits=5, shuffle=True)\n",
    "    total_train_score = 0\n",
    "    total_valid_score = 0\n",
    "    \n",
    "    for train_index, valid_index in kf.split(X_train_valid):\n",
    "        X_train, X_valid = X_train_valid[train_index], X_train_valid[valid_index]\n",
    "        y_train, y_valid = y_train_valid[train_index], y_train_valid[valid_index]\n",
    "        Model.fit(X_train, y_train)\n",
    "        total_train_score += Model.score(X_train, y_train)\n",
    "        total_valid_score += Model.score(X_valid, y_valid)\n",
    "        \n",
    "    avg_train_score = total_train_score / 5\n",
    "    avg_valid_score = total_valid_score / 5\n",
    "    avg_train_valid_score = (avg_train_score + avg_valid_score) / 2\n",
    "    print(\"Average training r2 score: \" + str(avg_train_score))\n",
    "    print(\"Average validation r2 score: \" + str(avg_valid_score))\n",
    "    \n",
    "    if (ChosenLinearModel is None) or (avg_train_valid_score > current_score_linear):\n",
    "        ChosenLinearModel = Model\n",
    "        current_score_linear = avg_train_valid_score\n",
    "        current_paramater_linear = a\n",
    "\n",
    "print(\"Optimal model (linear): a = \" + str(current_paramater_linear))"
   ]
  },
  {
   "cell_type": "markdown",
   "metadata": {},
   "source": [
    "## Performance of polynomial regression on different value of regularization parameter"
   ]
  },
  {
   "cell_type": "code",
   "execution_count": 9,
   "metadata": {},
   "outputs": [
    {
     "name": "stdout",
     "output_type": "stream",
     "text": [
      "a = 0.01\n",
      "Average training r2 score: 0.7432349724072532\n",
      "Average validation r2 score: 0.7389678610621365\n",
      "a = 10.01\n",
      "Average training r2 score: 0.7346471896612148\n",
      "Average validation r2 score: 0.7320860652606302\n",
      "a = 20.01\n",
      "Average training r2 score: 0.7278216882240824\n",
      "Average validation r2 score: 0.7256346944606961\n",
      "a = 30.01\n",
      "Average training r2 score: 0.7226073943492676\n",
      "Average validation r2 score: 0.7207564821015982\n",
      "a = 40.01\n",
      "Average training r2 score: 0.718943798548835\n",
      "Average validation r2 score: 0.716840083082827\n",
      "a = 50.01\n",
      "Average training r2 score: 0.7158976662402797\n",
      "Average validation r2 score: 0.714200531804442\n",
      "a = 60.01\n",
      "Average training r2 score: 0.7130240391392585\n",
      "Average validation r2 score: 0.710805698198589\n",
      "a = 70.01\n",
      "Average training r2 score: 0.7102482573690845\n",
      "Average validation r2 score: 0.7088962074681094\n",
      "a = 80.01\n",
      "Average training r2 score: 0.7081271983121876\n",
      "Average validation r2 score: 0.7055945889911082\n",
      "a = 90.01\n",
      "Average training r2 score: 0.7051894555707398\n",
      "Average validation r2 score: 0.703438448551194\n",
      "Optimal model (polynomial): a = 0.01\n"
     ]
    }
   ],
   "source": [
    "for a in np.arange(0.01, 100, 10):\n",
    "    print(\"a = \" + str(a))\n",
    "    \n",
    "    Model = lm.ElasticNet(alpha=a, max_iter=3000, tol=0.13)\n",
    "    \n",
    "    # Have to shuffle the data because it is grouped.\n",
    "    kf = KFold(n_splits=5, shuffle=True)\n",
    "    total_train_score = 0\n",
    "    total_valid_score = 0\n",
    "    \n",
    "    for train_index, valid_index in kf.split(X_train_valid):\n",
    "        X_train, X_valid = X_poly_train_valid[train_index], X_poly_train_valid[valid_index]\n",
    "        y_train, y_valid = y_train_valid[train_index], y_train_valid[valid_index]\n",
    "        Model.fit(X_train, y_train)\n",
    "        total_train_score += Model.score(X_train, y_train)\n",
    "        total_valid_score += Model.score(X_valid, y_valid)\n",
    "        \n",
    "    avg_train_score = total_train_score / 5\n",
    "    avg_valid_score = total_valid_score / 5\n",
    "    avg_train_valid_score = (avg_train_score + avg_valid_score) / 2\n",
    "    print(\"Average training r2 score: \" + str(avg_train_score))\n",
    "    print(\"Average validation r2 score: \" + str(avg_valid_score))\n",
    "    \n",
    "    if (ChosenPolyModel is None) or (avg_train_valid_score > current_score_poly):\n",
    "        ChosenPolyModel = Model\n",
    "        current_score_poly = avg_train_valid_score\n",
    "        current_paramater_poly = a\n",
    "\n",
    "print(\"Optimal model (polynomial): a = \" + str(current_paramater_poly))"
   ]
  },
  {
   "cell_type": "markdown",
   "metadata": {},
   "source": [
    "## Final performance score of the optimal models evaluated on test set"
   ]
  },
  {
   "cell_type": "code",
   "execution_count": 10,
   "metadata": {},
   "outputs": [
    {
     "name": "stdout",
     "output_type": "stream",
     "text": [
      "R2 score of optimal linear model: 0.6860348218142982\n",
      "R2 score of optimal polynomial model: 0.742368019780205\n"
     ]
    }
   ],
   "source": [
    "print(\"R2 score of optimal linear model: \" + str (ChosenLinearModel.score(X_test, y_test)))\n",
    "print(\"R2 score of optimal polynomial model: \" + str(ChosenPolyModel.score(X_poly_test, y_test)))"
   ]
  }
 ],
 "metadata": {
  "kernelspec": {
   "display_name": "Python 3",
   "language": "python",
   "name": "python3"
  },
  "language_info": {
   "codemirror_mode": {
    "name": "ipython",
    "version": 3
   },
   "file_extension": ".py",
   "mimetype": "text/x-python",
   "name": "python",
   "nbconvert_exporter": "python",
   "pygments_lexer": "ipython3",
   "version": "3.7.0"
  }
 },
 "nbformat": 4,
 "nbformat_minor": 2
}
