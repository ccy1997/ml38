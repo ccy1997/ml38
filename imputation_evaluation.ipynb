{
 "cells": [
  {
   "cell_type": "markdown",
   "metadata": {},
   "source": [
    "# Evaluation of imputation approaches"
   ]
  },
  {
   "cell_type": "markdown",
   "metadata": {},
   "source": [
    "Four imputation approaches are tested:\n",
    "1.\tRemove entries with missing total_bedrooms values (baseline)\n",
    "2.\tImpute with average of existing total_bedrooms values\n",
    "3.\tImpute with linear regression prediction from total_rooms values\n",
    "4.\tEach entry’s missing total_bedrooms value is replaced by average of total_bedrooms"
   ]
  },
  {
   "cell_type": "code",
   "execution_count": 1,
   "metadata": {},
   "outputs": [],
   "source": [
    "import pandas\n",
    "import numpy as np\n",
    "import sklearn.linear_model as lm\n",
    "from sklearn.model_selection import KFold\n",
    "import DataPrepUtil\n",
    "import Impute"
   ]
  },
  {
   "cell_type": "markdown",
   "metadata": {},
   "source": [
    "## Evaluation function (using linear regression)"
   ]
  },
  {
   "cell_type": "code",
   "execution_count": 2,
   "metadata": {},
   "outputs": [],
   "source": [
    "def lr_evaluate(housing):\n",
    "    y = housing.median_house_value.values.reshape(-1,1)\n",
    "    X = housing.drop(columns=['median_house_value'], inplace=False).values\n",
    "    \n",
    "    Model = lm.LinearRegression()\n",
    "    kf = KFold(n_splits=5, shuffle=True)\n",
    "    \n",
    "    total_train_err = 0\n",
    "    total_validation_err = 0\n",
    "    for train_index, validation_index in kf.split(X):\n",
    "        X_train, X_validation = X[train_index], X[validation_index]\n",
    "        y_train, y_validation = y[train_index], y[validation_index]\n",
    "        Model.fit(X_train, y_train)\n",
    "        total_train_err += Model.score(X_train, y_train)\n",
    "        total_validation_err += Model.score(X_validation, y_validation)\n",
    "        \n",
    "    avg_train_err = total_train_err / 5\n",
    "    avg_validation_err = total_validation_err / 5\n",
    "    print(\"Average training r2 score: \" + str(avg_train_err))\n",
    "    print(\"Average validation r2 score: \" + str(avg_validation_err))\n",
    "    print(\"Average of training and validation r2 score: \" + str((avg_train_err + avg_validation_err) / 2))"
   ]
  },
  {
   "cell_type": "markdown",
   "metadata": {},
   "source": [
    "## Reading data"
   ]
  },
  {
   "cell_type": "code",
   "execution_count": 3,
   "metadata": {},
   "outputs": [],
   "source": [
    "housing1 = pandas.read_csv('./housing.csv')\n",
    "DataPrepUtil.transform_ocean_proximity(housing1)\n",
    "housing2 = pandas.read_csv('./housing.csv')\n",
    "DataPrepUtil.transform_ocean_proximity(housing2)\n",
    "housing3 = pandas.read_csv('./housing.csv')\n",
    "DataPrepUtil.transform_ocean_proximity(housing3)\n",
    "housing4 = pandas.read_csv('./housing.csv')\n",
    "DataPrepUtil.transform_ocean_proximity(housing4)"
   ]
  },
  {
   "cell_type": "markdown",
   "metadata": {},
   "source": [
    "## Evaluation of approach 1"
   ]
  },
  {
   "cell_type": "code",
   "execution_count": 4,
   "metadata": {},
   "outputs": [
    {
     "name": "stdout",
     "output_type": "stream",
     "text": [
      "Average training r2 score: 0.6466055946564022\n",
      "Average validation r2 score: 0.6449707540538443\n",
      "Average of training and validation r2 score: 0.6457881743551233\n"
     ]
    }
   ],
   "source": [
    "Impute.remove_incomplete_entries(housing1)\n",
    "lr_evaluate(housing1)"
   ]
  },
  {
   "cell_type": "markdown",
   "metadata": {},
   "source": [
    "## Evaluation of approach 2"
   ]
  },
  {
   "cell_type": "code",
   "execution_count": 5,
   "metadata": {},
   "outputs": [
    {
     "name": "stdout",
     "output_type": "stream",
     "text": [
      "Average training r2 score: 0.6456505766826136\n",
      "Average validation r2 score: 0.6432810292574983\n",
      "Average of training and validation r2 score: 0.644465802970056\n"
     ]
    },
    {
     "name": "stderr",
     "output_type": "stream",
     "text": [
      "c:\\python37\\lib\\site-packages\\pandas\\core\\indexing.py:189: SettingWithCopyWarning: \n",
      "A value is trying to be set on a copy of a slice from a DataFrame\n",
      "\n",
      "See the caveats in the documentation: http://pandas.pydata.org/pandas-docs/stable/indexing.html#indexing-view-versus-copy\n",
      "  self._setitem_with_indexer(indexer, value)\n"
     ]
    }
   ],
   "source": [
    "Impute.fill_average(housing2)\n",
    "lr_evaluate(housing2)"
   ]
  },
  {
   "cell_type": "markdown",
   "metadata": {},
   "source": [
    "## Evaluation of approach 3"
   ]
  },
  {
   "cell_type": "code",
   "execution_count": 6,
   "metadata": {},
   "outputs": [
    {
     "name": "stdout",
     "output_type": "stream",
     "text": [
      "Average training r2 score: 0.6464231032809773\n",
      "Average validation r2 score: 0.645326433409665\n",
      "Average of training and validation r2 score: 0.6458747683453212\n"
     ]
    },
    {
     "name": "stderr",
     "output_type": "stream",
     "text": [
      "c:\\python37\\lib\\site-packages\\pandas\\core\\indexing.py:189: SettingWithCopyWarning: \n",
      "A value is trying to be set on a copy of a slice from a DataFrame\n",
      "\n",
      "See the caveats in the documentation: http://pandas.pydata.org/pandas-docs/stable/indexing.html#indexing-view-versus-copy\n",
      "  self._setitem_with_indexer(indexer, value)\n"
     ]
    }
   ],
   "source": [
    "Impute.fill_lr_prediction_from_other_column(housing3, 'total_rooms')\n",
    "lr_evaluate(housing3)"
   ]
  },
  {
   "cell_type": "markdown",
   "metadata": {},
   "source": [
    "## Evaluation of approach 4"
   ]
  },
  {
   "cell_type": "code",
   "execution_count": 7,
   "metadata": {},
   "outputs": [
    {
     "name": "stdout",
     "output_type": "stream",
     "text": [
      "Average training r2 score: 0.6464353151622129\n",
      "Average validation r2 score: 0.6444294546996068\n",
      "Average of training and validation r2 score: 0.6454323849309098\n"
     ]
    },
    {
     "name": "stderr",
     "output_type": "stream",
     "text": [
      "c:\\python37\\lib\\site-packages\\numpy\\core\\_methods.py:36: RuntimeWarning: overflow encountered in reduce\n",
      "  return umr_sum(a, axis, dtype, out, keepdims, initial)\n",
      "c:\\python37\\lib\\site-packages\\pandas\\core\\indexing.py:189: SettingWithCopyWarning: \n",
      "A value is trying to be set on a copy of a slice from a DataFrame\n",
      "\n",
      "See the caveats in the documentation: http://pandas.pydata.org/pandas-docs/stable/indexing.html#indexing-view-versus-copy\n",
      "  self._setitem_with_indexer(indexer, value)\n"
     ]
    }
   ],
   "source": [
    "Impute.fill_nn_prediction(housing4, 4)\n",
    "lr_evaluate(housing4)"
   ]
  }
 ],
 "metadata": {
  "kernelspec": {
   "display_name": "Python 3",
   "language": "python",
   "name": "python3"
  },
  "language_info": {
   "codemirror_mode": {
    "name": "ipython",
    "version": 3
   },
   "file_extension": ".py",
   "mimetype": "text/x-python",
   "name": "python",
   "nbconvert_exporter": "python",
   "pygments_lexer": "ipython3",
   "version": "3.7.0"
  }
 },
 "nbformat": 4,
 "nbformat_minor": 2
}
