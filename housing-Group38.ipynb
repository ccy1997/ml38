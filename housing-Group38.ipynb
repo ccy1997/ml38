{
 "cells": [
  {
   "cell_type": "markdown",
   "metadata": {
    "colab_type": "text",
    "id": "uor98M0-uCzC"
   },
   "source": [
    "# Data preprocessing"
   ]
  },
  {
   "cell_type": "code",
   "execution_count": 1,
   "metadata": {
    "colab": {},
    "colab_type": "code",
    "id": "QbjevN4fuCzK"
   },
   "outputs": [],
   "source": [
    "import pandas\n",
    "import numpy as np\n",
    "import sklearn.linear_model as lm\n",
    "from sklearn.model_selection import KFold\n",
    "from sklearn import preprocessing as pre\n",
    "import random\n",
    "import matplotlib.pyplot as plt\n",
    "\n"
   ]
  },
  {
   "cell_type": "markdown",
   "metadata": {
    "colab_type": "text",
    "id": "yd0OT8bduCza"
   },
   "source": [
    "## Reading data"
   ]
  },
  {
   "cell_type": "code",
   "execution_count": 2,
   "metadata": {
    "colab": {},
    "colab_type": "code",
    "id": "wXiOz145uCzl"
   },
   "outputs": [],
   "source": [
    "housing = pandas.read_csv('./housing.csv')"
   ]
  },
  {
   "cell_type": "markdown",
   "metadata": {
    "colab_type": "text",
    "id": "ur7OantcuCzy"
   },
   "source": [
    "## Transform ocean_proximity column to 5 binary-valued columns"
   ]
  },
  {
   "cell_type": "code",
   "execution_count": 3,
   "metadata": {
    "colab": {},
    "colab_type": "code",
    "id": "YOMx_j86uCz3"
   },
   "outputs": [],
   "source": [
    "housing['1h_ocean'] = [1 if i=='<1H OCEAN' else 0 for i in housing.ocean_proximity.values]\n",
    "housing['island'] = [1 if i=='ISLAND' else 0 for i in housing.ocean_proximity.values]\n",
    "housing['inland'] = [1 if i=='INLAND' else 0 for i in housing.ocean_proximity.values]\n",
    "housing['near_ocean'] = [1 if i=='NEAR OCEAN' else 0 for i in housing.ocean_proximity.values]\n",
    "housing['near_bay'] = [1 if i=='NEAR BAY' else 0 for i in housing.ocean_proximity.values]\n",
    "housing.drop(columns=['ocean_proximity'], inplace=True)"
   ]
  },
  {
   "cell_type": "markdown",
   "metadata": {
    "colab_type": "text",
    "id": "p92ee34nuC0B"
   },
   "source": [
    "## Filling missing data"
   ]
  },
  {
   "cell_type": "markdown",
   "metadata": {
    "colab_type": "text",
    "id": "Saz_NUoMuC0D"
   },
   "source": [
    "Missing total_bedroom values are predicted through linear regression with total_rooms values"
   ]
  },
  {
   "cell_type": "code",
   "execution_count": 4,
   "metadata": {
    "colab": {
     "base_uri": "https://localhost:8080/",
     "height": 104
    },
    "colab_type": "code",
    "id": "nrIonZS3uC0G",
    "outputId": "25b71db0-1658-445e-94cf-ab5a119a64f2"
   },
   "outputs": [
    {
     "name": "stderr",
     "output_type": "stream",
     "text": [
      "c:\\users\\alun\\appdata\\local\\programs\\python\\python37\\lib\\site-packages\\pandas\\core\\indexing.py:189: SettingWithCopyWarning: \n",
      "A value is trying to be set on a copy of a slice from a DataFrame\n",
      "\n",
      "See the caveats in the documentation: http://pandas.pydata.org/pandas-docs/stable/indexing.html#indexing-view-versus-copy\n",
      "  self._setitem_with_indexer(indexer, value)\n"
     ]
    }
   ],
   "source": [
    "notna = housing.total_bedrooms.notna()\n",
    "model = lm.LinearRegression()\n",
    "model.fit(housing.total_rooms.values[notna].reshape(-1,1), housing.total_bedrooms.values[notna].reshape(-1,1))\n",
    "isna = housing.total_bedrooms.isna()\n",
    "missing_bedrooms = model.predict(housing.total_rooms.values[isna].reshape(-1,1))\n",
    "housing.total_bedrooms.loc[isna] = np.squeeze(missing_bedrooms)"
   ]
  },
  {
   "cell_type": "markdown",
   "metadata": {
    "colab_type": "text",
    "id": "qxhupQZpuC0S"
   },
   "source": [
    "## The code below is for feature scaling (normalisation):"
   ]
  },
  {
   "cell_type": "code",
   "execution_count": null,
   "metadata": {
    "colab": {},
    "colab_type": "code",
    "id": "4oIcX5URuC0W"
   },
   "outputs": [],
   "source": [
    "import pandas\n",
    "import numpy as np\n",
    "from sklearn.model_selection import KFold\n",
    "import random\n",
    "import sklearn.linear_model as lm\n",
    "from sklearn import preprocessing\n",
    "import DataPrepUtil\n",
    "import Impute\n",
    "\n",
    "\n",
    "housing = pandas.read_csv('housing.csv')\n",
    "\n",
    "DataPrepUtil.transform_ocean_proximity(housing)\n",
    "Impute.fill_lr_prediction_from_other_column(housing, 'total_rooms')\n",
    "\n",
    "\n",
    "scaled_1 = pandas.DataFrame(preprocessing.StandardScaler().fit_transform(housing))\n",
    "scaled_2 = pandas.DataFrame(preprocessing.MaxAbsScaler().fit_transform(housing))\n",
    "scaled_3 = pandas.DataFrame(preprocessing.MinMaxScaler().fit_transform(housing))\n",
    "scaled_4 = pandas.DataFrame(preprocessing.RobustScaler().fit_transform(housing))\n",
    "\n",
    "scaled_1.columns = housing.columns\n",
    "scaled_2.columns = housing.columns\n",
    "scaled_3.columns = housing.columns\n",
    "scaled_4.columns = housing.columns\n",
    "\n",
    "scaler_names = ['StandardScaler', 'MaxAbsScaler', 'MinMaxScaler', 'RobustScaler'] \n",
    "\n",
    "scaler_count = 0\n",
    "\n",
    "for i in (scaled_1, scaled_2, scaled_3, scaled_4): \n",
    "    \n",
    " \n",
    "    housing = i\n",
    "    \n",
    "    y = housing.median_house_value.values.reshape(-1,1)\n",
    "    X = housing.drop(columns=['median_house_value'], inplace=False).values\n",
    "    \n",
    "    holdout = random.sample(range(0,10640),1000)\n",
    "    X_holdout = X[holdout]\n",
    "    y_holdout = y[holdout]\n",
    "    Xt = np.delete(X, holdout, 0)\n",
    "    yt = np.delete(y, holdout, 0)\n",
    "    \n",
    "    fold_number = 10\n",
    "    \n",
    "    kf = KFold(n_splits=fold_number, shuffle=True)\n",
    "    \n",
    "    Model = lm.LinearRegression()\n",
    "\n",
    "    train_R2_average = 0\n",
    "    test_R2_average = 0\n",
    "    mae_average = 0\n",
    "    accuracy_average = 0\n",
    "        \n",
    "    for train_index, test_index in kf.split(Xt): \n",
    "        X_train, X_test = Xt[train_index], Xt[test_index]\n",
    "        y_train, y_test = yt[train_index], yt[test_index]\n",
    "        \n",
    "        Model.fit(X_train, y_train.ravel()) \n",
    "        \n",
    "        \n",
    "        train_R2_average += Model.score(X_train, y_train)/fold_number\n",
    "        test_R2_average += Model.score(X_test, y_test)/fold_number\n",
    "\n",
    "        \n",
    "    print('Average training R^2 score for ', scaler_names[scaler_count], ': ', train_R2_average)\n",
    "    \n",
    "    print('Average test R^2 scorefor ', scaler_names[scaler_count], ': ', test_R2_average, '\\n')\n",
    "    scaler_count += 1\n",
    "    \n"
   ]
  },
  {
   "cell_type": "markdown",
   "metadata": {
    "colab_type": "text",
    "id": "eM-D6B_cuC0j"
   },
   "source": [
    "## Data Transform using Box Cox Transform"
   ]
  },
  {
   "cell_type": "code",
   "execution_count": 5,
   "metadata": {
    "colab": {},
    "colab_type": "code",
    "id": "9N9CKq1ruC0l"
   },
   "outputs": [],
   "source": [
    "from scipy import stats\n",
    "\n",
    "median_house_value_bc, maxlog, interval = stats.boxcox(housing.median_house_value, alpha=0.05)\n",
    "population_bc, maxlog, interval = stats.boxcox(housing.population, alpha=0.05)\n",
    "housing_median_age_bc, maxlog, interval = stats.boxcox(housing.housing_median_age, alpha=0.05)\n",
    "total_rooms_bc, maxlog, interval = stats.boxcox(housing.total_rooms, alpha=0.05)\n",
    "total_bedrooms_bc, maxlog, interval = stats.boxcox(housing.total_bedrooms, alpha=0.05)\n",
    "households_bc, maxlog, interval = stats.boxcox(housing.households, alpha=0.05)\n",
    "median_income_bc, maxlog, interval = stats.boxcox(housing.median_income, alpha=0.05)\n",
    "\n"
   ]
  },
  {
   "cell_type": "code",
   "execution_count": 6,
   "metadata": {
    "colab": {
     "base_uri": "https://localhost:8080/",
     "height": 3317
    },
    "colab_type": "code",
    "collapsed": true,
    "id": "cz6wsjmVuC0z",
    "outputId": "4ed01da3-1cef-4ba4-a26b-af2ede89e5e8"
   },
   "outputs": [
    {
     "name": "stdout",
     "output_type": "stream",
     "text": [
      "       longitude  latitude  1h_ocean  island  inland  near_ocean  near_bay  \\\n",
      "0        -122.23     37.88         0       0       0           0         1   \n",
      "1        -122.22     37.86         0       0       0           0         1   \n",
      "2        -122.24     37.85         0       0       0           0         1   \n",
      "3        -122.25     37.85         0       0       0           0         1   \n",
      "4        -122.25     37.85         0       0       0           0         1   \n",
      "5        -122.25     37.85         0       0       0           0         1   \n",
      "6        -122.25     37.84         0       0       0           0         1   \n",
      "7        -122.25     37.84         0       0       0           0         1   \n",
      "8        -122.26     37.84         0       0       0           0         1   \n",
      "9        -122.25     37.84         0       0       0           0         1   \n",
      "10       -122.26     37.85         0       0       0           0         1   \n",
      "11       -122.26     37.85         0       0       0           0         1   \n",
      "12       -122.26     37.85         0       0       0           0         1   \n",
      "13       -122.26     37.84         0       0       0           0         1   \n",
      "14       -122.26     37.85         0       0       0           0         1   \n",
      "15       -122.26     37.85         0       0       0           0         1   \n",
      "16       -122.27     37.85         0       0       0           0         1   \n",
      "17       -122.27     37.85         0       0       0           0         1   \n",
      "18       -122.26     37.84         0       0       0           0         1   \n",
      "19       -122.27     37.84         0       0       0           0         1   \n",
      "20       -122.27     37.85         0       0       0           0         1   \n",
      "21       -122.27     37.85         0       0       0           0         1   \n",
      "22       -122.27     37.84         0       0       0           0         1   \n",
      "23       -122.27     37.84         0       0       0           0         1   \n",
      "24       -122.27     37.84         0       0       0           0         1   \n",
      "25       -122.28     37.85         0       0       0           0         1   \n",
      "26       -122.28     37.85         0       0       0           0         1   \n",
      "27       -122.28     37.85         0       0       0           0         1   \n",
      "28       -122.28     37.84         0       0       0           0         1   \n",
      "29       -122.28     37.84         0       0       0           0         1   \n",
      "...          ...       ...       ...     ...     ...         ...       ...   \n",
      "20610    -121.56     39.10         0       0       1           0         0   \n",
      "20611    -121.55     39.10         0       0       1           0         0   \n",
      "20612    -121.56     39.08         0       0       1           0         0   \n",
      "20613    -121.55     39.09         0       0       1           0         0   \n",
      "20614    -121.54     39.08         0       0       1           0         0   \n",
      "20615    -121.54     39.08         0       0       1           0         0   \n",
      "20616    -121.53     39.08         0       0       1           0         0   \n",
      "20617    -121.53     39.06         0       0       1           0         0   \n",
      "20618    -121.55     39.06         0       0       1           0         0   \n",
      "20619    -121.56     39.01         0       0       1           0         0   \n",
      "20620    -121.48     39.05         0       0       1           0         0   \n",
      "20621    -121.47     39.01         0       0       1           0         0   \n",
      "20622    -121.44     39.00         0       0       1           0         0   \n",
      "20623    -121.37     39.03         0       0       1           0         0   \n",
      "20624    -121.41     39.04         0       0       1           0         0   \n",
      "20625    -121.52     39.12         0       0       1           0         0   \n",
      "20626    -121.43     39.18         0       0       1           0         0   \n",
      "20627    -121.32     39.13         0       0       1           0         0   \n",
      "20628    -121.48     39.10         0       0       1           0         0   \n",
      "20629    -121.39     39.12         0       0       1           0         0   \n",
      "20630    -121.32     39.29         0       0       1           0         0   \n",
      "20631    -121.40     39.33         0       0       1           0         0   \n",
      "20632    -121.45     39.26         0       0       1           0         0   \n",
      "20633    -121.53     39.19         0       0       1           0         0   \n",
      "20634    -121.56     39.27         0       0       1           0         0   \n",
      "20635    -121.09     39.48         0       0       1           0         0   \n",
      "20636    -121.21     39.49         0       0       1           0         0   \n",
      "20637    -121.22     39.43         0       0       1           0         0   \n",
      "20638    -121.32     39.43         0       0       1           0         0   \n",
      "20639    -121.24     39.37         0       0       1           0         0   \n",
      "\n",
      "       housing_median_age  total_rooms  total_bedrooms  population  \\\n",
      "0               23.723215    15.706729        8.804720   12.308115   \n",
      "1               13.286954    27.556487       17.020354   22.335336   \n",
      "2               29.017457    18.123797       10.008446   14.082651   \n",
      "3               29.017457    17.429179       10.715075   14.598632   \n",
      "4               29.017457    18.647499       11.323395   14.654090   \n",
      "5               29.017457    15.901401       10.384122   13.308331   \n",
      "6               29.017457    21.031485       13.426436   17.839477   \n",
      "7               29.017457    22.200191       14.844000   18.132890   \n",
      "8               24.214801    21.075873       14.703561   18.352770   \n",
      "9               29.017457    23.002640       14.968677   19.733537   \n",
      "10              29.017457    20.248968       12.954008   16.901304   \n",
      "11              29.017457    22.923452       15.239503   19.560229   \n",
      "12              29.017457    20.932863       13.301857   17.858485   \n",
      "13              29.017457    14.685388       10.025494   12.579516   \n",
      "14              29.017457    21.268021       14.445485   18.379222   \n",
      "15              28.072156    16.813388       11.361175   15.612989   \n",
      "16              29.017457    19.636487       12.101591   16.226302   \n",
      "17              29.017457    17.251615       11.484906   15.274682   \n",
      "18              28.072156    20.340294       13.139590   17.325523   \n",
      "19              29.017457    18.245375       11.545547   15.565796   \n",
      "20              23.229338    15.010763        9.904671   13.268107   \n",
      "21              24.214801    18.685132       12.311104   17.004562   \n",
      "22              29.017457    20.807659       13.836572   17.452706   \n",
      "23              29.017457    18.836607       11.993302   16.581310   \n",
      "24              29.017457    20.303413       12.980941   17.407199   \n",
      "25              23.723215    13.601110        8.663752   12.247164   \n",
      "26              27.596813    16.855315       10.843558   14.976239   \n",
      "27              29.017457    19.449407       12.835605   17.877440   \n",
      "28              28.072156    19.944298       13.450995   18.013316   \n",
      "29              29.017457    14.882916        9.461288   13.124914   \n",
      "...                   ...          ...             ...         ...   \n",
      "20610           17.094611    20.067768       13.385243   18.304012   \n",
      "20611           16.562912    19.120781       13.016628   18.160192   \n",
      "20612           16.027445    17.809349       11.435812   16.028497   \n",
      "20613           18.668640    18.957740       12.290557   18.178334   \n",
      "20614           16.027445    20.430452       13.182794   19.375081   \n",
      "20615           14.396628    16.625368       10.430770   15.791696   \n",
      "20616            9.824736    19.199388       13.016628   18.132890   \n",
      "20617           12.724629    13.792063        8.312791   12.135576   \n",
      "20618           15.488037    17.646079       10.885568   15.804730   \n",
      "20619           13.844195    19.429854       12.026048   17.492899   \n",
      "20620           23.229338    10.028574        5.797264    9.602101   \n",
      "20621           21.733260    17.313955       10.885568   13.977149   \n",
      "20622           12.724629    15.033694        9.199147   13.732250   \n",
      "20623           19.186751    16.971192       10.843558   14.908675   \n",
      "20624           10.417849    18.867098       11.569582   15.837194   \n",
      "20625           21.733260     8.045409        3.959248    5.140675   \n",
      "20626           21.229496    16.830194        9.904671   14.151907   \n",
      "20627            3.310026    12.062266        6.914258    9.974597   \n",
      "20628           12.156918    19.842336       12.835605   17.467807   \n",
      "20629           17.094611    30.104558       19.665711   29.859753   \n",
      "20630            7.369280    21.261553       13.556094   18.574488   \n",
      "20631            9.824736    21.293835       13.459155   18.326217   \n",
      "20632            9.824736    20.533807       12.789310   17.612053   \n",
      "20633           16.562912    19.939106       12.751962   17.782132   \n",
      "20634           17.094611    20.564760       12.590023   17.582462   \n",
      "20635           15.488037    18.765939       12.382341   16.535101   \n",
      "20636           11.583479    14.691480        9.261191   12.704451   \n",
      "20637           11.003933    20.376984       13.393508   17.412271   \n",
      "20638           11.583479    19.342577       12.723766   15.901618   \n",
      "20639           10.417849    21.567820       14.377309   19.110079   \n",
      "\n",
      "       households  median_income  median_house_value  \n",
      "0        9.264721       2.337069           32.675418  \n",
      "1       18.799348       2.333598           31.509297  \n",
      "2       10.423372       2.171690           31.420578  \n",
      "3       11.199954       1.873879           31.267611  \n",
      "4       11.840976       1.432988           31.280519  \n",
      "5       10.734130       1.487772           30.130547  \n",
      "6       14.751628       1.376755           30.627723  \n",
      "7       15.843695       1.198726           29.606651  \n",
      "8       15.438944       0.757488           29.312930  \n",
      "9       16.330461       1.386586           29.976644  \n",
      "10      13.651312       1.227910           30.334871  \n",
      "11      16.469054       1.251079           29.614422  \n",
      "12      14.324056       1.182626           29.034613  \n",
      "13      10.362763       1.028698           28.530604  \n",
      "14      15.636734       0.670218           27.702698  \n",
      "15      11.915727       0.780182           27.134604  \n",
      "16      12.826978       1.069471           27.511625  \n",
      "17      12.464846       0.777760           27.598070  \n",
      "18      13.832134       0.710689           27.688685  \n",
      "19      12.076490       0.999597           27.805219  \n",
      "20      10.197187       0.310155           27.364184  \n",
      "21      13.248448       0.551931           27.719464  \n",
      "22      14.419621       0.558957           26.241432  \n",
      "23      12.751383       0.807873           25.677086  \n",
      "24      13.863467       0.998213           26.897281  \n",
      "25       9.079161       0.912941           25.995181  \n",
      "26      11.530604       0.937863           25.421663  \n",
      "27      13.597032       0.608443           25.915595  \n",
      "28      14.372029       0.507512           26.050125  \n",
      "29       9.959386       0.535885           26.877534  \n",
      "...           ...            ...                 ...  \n",
      "20610   14.037908       0.314162           22.536098  \n",
      "20611   13.726455       0.254194           22.659970  \n",
      "20612   11.960066       0.408452           22.764558  \n",
      "20613   13.453446       0.410117           23.152420  \n",
      "20614   14.381578       0.942178           23.475373  \n",
      "20615   10.808763       0.892952           23.441378  \n",
      "20616   13.351876       0.740150           23.274511  \n",
      "20617    8.941507       1.261792           24.268604  \n",
      "20618   11.318181       0.841551           23.827040  \n",
      "20619   12.370385       1.051667           25.651724  \n",
      "20620    6.454847       1.627514           25.689717  \n",
      "20621   10.003550       0.895835           24.634823  \n",
      "20622   10.003550       0.918739           24.047187  \n",
      "20623   11.334845       1.088496           23.956748  \n",
      "20624   12.301874       1.182230           25.118704  \n",
      "20625    3.709736       1.512332           24.336365  \n",
      "20626   10.301359       0.801011           25.421663  \n",
      "20627    7.001083       1.155311           27.794235  \n",
      "20628   13.520165       0.996198           25.358994  \n",
      "20629   21.581414       0.764608           26.026654  \n",
      "20630   14.098257       1.348201           26.169618  \n",
      "20631   13.966708       1.332558           25.983327  \n",
      "20632   13.464620       1.200502           26.304804  \n",
      "20633   13.431031       0.976839           25.617699  \n",
      "20634   12.987285       1.393066           26.349047  \n",
      "20635   12.814452       0.453991           24.666251  \n",
      "20636    8.941507       0.979953           24.613753  \n",
      "20637   13.976932       0.543627           25.354486  \n",
      "20638   13.047724       0.642493           24.998684  \n",
      "20639   14.893569       0.906074           25.221856  \n",
      "\n",
      "[20640 rows x 14 columns]\n"
     ]
    }
   ],
   "source": [
    "housing_boxcox = housing.copy()\n",
    "\n",
    "housing_boxcox.drop(columns=['housing_median_age'], inplace=True)\n",
    "housing_boxcox.drop(columns=['total_rooms'], inplace=True)\n",
    "housing_boxcox.drop(columns=['total_bedrooms'], inplace=True)\n",
    "housing_boxcox.drop(columns=['population'], inplace=True)\n",
    "housing_boxcox.drop(columns=['households'], inplace=True)\n",
    "housing_boxcox.drop(columns=['median_income'], inplace=True)\n",
    "housing_boxcox.drop(columns=['median_house_value'], inplace=True)\n",
    "\n",
    "housing_boxcox['housing_median_age'] = housing_median_age_bc\n",
    "housing_boxcox['total_rooms'] = total_rooms_bc\n",
    "housing_boxcox['total_bedrooms'] = total_bedrooms_bc\n",
    "housing_boxcox['population'] = population_bc\n",
    "housing_boxcox['households'] = households_bc\n",
    "housing_boxcox['median_income'] = median_income_bc\n",
    "housing_boxcox['median_house_value'] = median_house_value_bc\n",
    "\n",
    "\n",
    "print(housing_boxcox)"
   ]
  },
  {
   "cell_type": "markdown",
   "metadata": {},
   "source": [
    " ## Support Vector Machines\n",
    " \n"
   ]
  },
  {
   "cell_type": "markdown",
   "metadata": {},
   "source": [
    "The code below simply runs testsing code found in support_vector_machines.py"
   ]
  },
  {
   "cell_type": "code",
   "execution_count": null,
   "metadata": {},
   "outputs": [],
   "source": [
    "import support_vector_machines\n",
    "\n",
    "cross_set, eval_set = support_vector_machines.create_kfold_sets(housing_boxcox)\n",
    "support_vector_machines.run_svr(cross_set, eval_set,c=10**6)"
   ]
  },
  {
   "cell_type": "markdown",
   "metadata": {
    "colab_type": "text",
    "id": "Nryw-fgTuC1P"
   },
   "source": [
    "## After data transform, please use housing_boxcox as input"
   ]
  },
  {
   "cell_type": "code",
   "execution_count": null,
   "metadata": {
    "colab": {
     "base_uri": "https://localhost:8080/",
     "height": 1024
    },
    "colab_type": "code",
    "id": "yJ1VJk8r5cMg",
    "outputId": "6839d4d2-02e6-40cf-fcf8-6eeb6091011f"
   },
   "outputs": [],
   "source": [
    "# First, extract the data into arrays\n",
    "y = housing_boxcox.median_house_value.values.reshape(-1,1)\n",
    "X = housing_boxcox.drop(columns=['median_house_value'], inplace=False).values\n",
    "\n",
    "print(X.shape)\n",
    "print(y.shape)\n",
    "# Pull out 1000 values into a holdout set\n",
    "holdout = random.sample(range(0,10640),1000)\n",
    "X_holdout = X[holdout]\n",
    "y_holdout = y[holdout]\n",
    "Xt = np.delete(X, holdout, 0)\n",
    "yt = np.delete(y, holdout, 0)\n",
    "print(Xt.shape)\n",
    "print(yt.shape)\n",
    "\n",
    "train_R2_average = 0\n",
    "test_R2_average = 0\n",
    "mae_average = 0\n",
    "accuracy_average = 0\n",
    "\n",
    "fold_number = 10\n",
    "\n",
    "# Have to shuffle the data because it is grouped.\n",
    "kf = KFold(n_splits=fold_number, shuffle=True)\n",
    "for train_index, test_index in kf.split(Xt):\n",
    "  X_train, X_test = Xt[train_index], Xt[test_index]\n",
    "  y_train, y_test = yt[train_index], yt[test_index]\n",
    "  Model.fit(X_train, y_train)\n",
    "  predictions = Model.predict(X_test)\n",
    "  errors = abs(predictions - y_test)\n",
    "  mae = round(numpy.mean(errors), 2)\n",
    "  mae_average += mae/fold_number\n",
    "  print('Mean Absolute Error:', mae)\n",
    "  mape = 100 * (errors / y_test)\n",
    "  accuracy = 100 - numpy.mean(mape)\n",
    "  accuracy_average += accuracy/fold_number\n",
    "  print('Accuracy:', round(accuracy, 2), '%.')\n",
    "  print('Training R^2: ' , Model.score(X_train, y_train))\n",
    "  print('Testing R^2: ' , Model.score(X_test, y_test))\n",
    "  print()\n",
    "  train_R2_average += Model.score(X_train, y_train)/fold_number\n",
    "  test_R2_average += Model.score(X_test, y_test)/fold_number\n",
    "print('Average train accuracy: ', accuracy_average)\n",
    "print('Average train mae: ', mae_average)\n",
    "print('Average train R^2: ', train_R2_average)\n",
    "print('Average test R^2: ', test_R2_average)"
   ]
  }
 ],
 "metadata": {
  "colab": {
   "collapsed_sections": [],
   "name": "housing-Group38.ipynb",
   "provenance": [],
   "version": "0.3.2"
  },
  "kernelspec": {
   "display_name": "Python 3",
   "language": "python",
   "name": "python3"
  },
  "language_info": {
   "codemirror_mode": {
    "name": "ipython",
    "version": 3
   },
   "file_extension": ".py",
   "mimetype": "text/x-python",
   "name": "python",
   "nbconvert_exporter": "python",
   "pygments_lexer": "ipython3",
   "version": "3.6.5"
  }
 },
 "nbformat": 4,
 "nbformat_minor": 1
}
